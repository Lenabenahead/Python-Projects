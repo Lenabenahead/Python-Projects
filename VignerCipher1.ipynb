{
  "nbformat": 4,
  "nbformat_minor": 0,
  "metadata": {
    "colab": {
      "name": "VignerCipher1.ipynb",
      "provenance": []
    },
    "kernelspec": {
      "name": "python3",
      "display_name": "Python 3"
    },
    "language_info": {
      "name": "python"
    }
  },
  "cells": [
    {
      "cell_type": "markdown",
      "source": [
        "# **Vigner Cipher**\n",
        "\n",
        "This program includes if else statements and for loops."
      ],
      "metadata": {
        "id": "54vgKU8rbsFk"
      }
    },
    {
      "cell_type": "markdown",
      "source": [
        "This is the lowercase alphabet as an index."
      ],
      "metadata": {
        "id": "9bb15y96cCWf"
      }
    },
    {
      "cell_type": "code",
      "source": [
        "alpha = \"ABCDEFGHIJKLMNOPQRSTUVWXYZ\""
      ],
      "metadata": {
        "id": "BqmLX9wAcHHD"
      },
      "execution_count": null,
      "outputs": []
    },
    {
      "cell_type": "markdown",
      "source": [
        "In this section, I used the generate key function. "
      ],
      "metadata": {
        "id": "-ietENgmcWOG"
      }
    },
    {
      "cell_type": "code",
      "source": [
        "def generateKey(alpha, key):\n",
        "  key = list(key)\n",
        "  if len(alpha) == len(key):\n",
        "    return(key)\n",
        "  else:\n",
        "    for i in range(len(alpha) - len(key)):\n",
        "      key.append(key[i % len(key)])\n",
        "  return(\"\".join(key))"
      ],
      "metadata": {
        "id": "mVJ1_-R6czI8"
      },
      "execution_count": null,
      "outputs": []
    },
    {
      "cell_type": "markdown",
      "source": [
        "In this section I use a for loop to encode the text.\n",
        "Column by column and convert to two letters in each column to indexes in the alphabet. Then I add the two numbers to convert them back to a letter. "
      ],
      "metadata": {
        "id": "DWR4X1F6dYzK"
      }
    },
    {
      "cell_type": "code",
      "source": [
        "def vigEncode(alpha, key):\n",
        "  vig_encode = []\n",
        "  for i in range(len(alpha)):\n",
        "    m_num = alpha.index(alpha[i])\n",
        "    k_num = alpha.index(key[i])\n",
        "    e_num  = (m_num + k_num) % 26\n",
        "    vig_encode.append(alpha[e_num])\n",
        "  return \"\".join(vig_encode)"
      ],
      "metadata": {
        "id": "j1n3sxEqczNL"
      },
      "execution_count": null,
      "outputs": []
    },
    {
      "cell_type": "markdown",
      "source": [
        "In this section I decode the message. It is very similar to the Vigenere Encode but instead of adding m_num and k_num, I subtracted. "
      ],
      "metadata": {
        "id": "_clT7qzhfi_Z"
      }
    },
    {
      "cell_type": "code",
      "source": [
        "def vigDecode(vig_encode, key):\n",
        "  vig_decode = []\n",
        "  for i in range(len(vig_encode)):\n",
        "    altalpha = (ord(vig_encode[i]) - ord(key[i]) + 26) % 26\n",
        "    altalpha += ord('A')\n",
        "    vig_decode.append(chr(altalpha))\n",
        "  return (\"\".join(vig_decode))"
      ],
      "metadata": {
        "id": "xaWuI1QCf4v-"
      },
      "execution_count": null,
      "outputs": []
    },
    {
      "cell_type": "markdown",
      "source": [
        "This section asks for the user's input, or the message that needs to be encoded/decoded, and prints the results. "
      ],
      "metadata": {
        "id": "vOcknWirgD0E"
      }
    },
    {
      "cell_type": "code",
      "source": [
        "keyword = input(\"Please enter a keyword\")\n",
        "keyword = keyword.upper()\n",
        "test = \"THEQUICKBROWNFOXJUMPEDOVERTHELAZYDOG\" \n",
        "key = generateKey(alpha, keyword)\n",
        "vig_encode = vigEncode(alpha, key)\n",
        "vig_decode = vigDecode(vig_encode, key)\n",
        "print(vig_encode)\n",
        "print(vig_decode)"
      ],
      "metadata": {
        "colab": {
          "base_uri": "https://localhost:8080/"
        },
        "id": "ksGJeOTvgTNT",
        "outputId": "d04c6ff0-9710-4f70-de0f-b597f2fc5060"
      },
      "execution_count": null,
      "outputs": [
        {
          "output_type": "stream",
          "name": "stdout",
          "text": [
            "Please enter a keyworddesire\n",
            "DFULVJJLARBPPRGXHVVXMDNBBD\n",
            "ABCDEFGHIJKLMNOPQRSTUVWXYZ\n"
          ]
        }
      ]
    }
  ]
}