{
  "nbformat": 4,
  "nbformat_minor": 0,
  "metadata": {
    "colab": {
      "name": "AffineCipher.ipynb",
      "provenance": []
    },
    "kernelspec": {
      "name": "python3",
      "display_name": "Python 3"
    },
    "language_info": {
      "name": "python"
    }
  },
  "cells": [
    {
      "cell_type": "markdown",
      "source": [
        "# **The Affine Cipher**"
      ],
      "metadata": {
        "id": "CtE7RKaorVvE"
      }
    },
    {
      "cell_type": "code",
      "execution_count": 1,
      "metadata": {
        "id": "T7OQKa0MiDyb"
      },
      "outputs": [],
      "source": [
        "import math"
      ]
    },
    {
      "cell_type": "markdown",
      "source": [
        "***Part One***"
      ],
      "metadata": {
        "id": "FCP27nuW9w0G"
      }
    },
    {
      "cell_type": "markdown",
      "source": [
        "This is the uppercase alphabet as a list. "
      ],
      "metadata": {
        "id": "k5J4avCnrxTr"
      }
    },
    {
      "cell_type": "code",
      "source": [
        "alpha = \"ABCDEFGHIJKLMNOPQRSTUVWXYZ\""
      ],
      "metadata": {
        "id": "nkGIBfRmpUlK"
      },
      "execution_count": 2,
      "outputs": []
    },
    {
      "cell_type": "markdown",
      "source": [
        "This section includes the inverse function which calculates the inverse so we can use it later to decode. If you choose a number that has no factors in common with the modulus, then there's a different number you can use to reverse multiplication by the first number. This inverse function finds the second number. "
      ],
      "metadata": {
        "id": "GsNZjOFHsV1Z"
      }
    },
    {
      "cell_type": "code",
      "source": [
        "def mod_inverse_helper(a, b):\n",
        "    q, r = a//b, a%b\n",
        "    if r == 1:\n",
        "        return (1, -1 * q)\n",
        "    u, v = mod_inverse_helper(b, r)\n",
        "    return (v, -1 * q * v + u)\n",
        "\n",
        "def mod_inverse(a, m):\n",
        "    assert math.gcd(a, m) == 1, \"You're trying to invert \" + str(a) + \" in mod \" + str(m) + \" and that doesn't work!\"\n",
        "    return mod_inverse_helper(m, a)[1] % m"
      ],
      "metadata": {
        "id": "5a3flQuHpXWU"
      },
      "execution_count": 3,
      "outputs": []
    },
    {
      "cell_type": "markdown",
      "source": [
        "This is the Affine encode, which is similar to the Caesar shift but we multiplying in Mod 26. "
      ],
      "metadata": {
        "id": "arSVwzpktHNo"
      }
    },
    {
      "cell_type": "code",
      "source": [
        "def affine_encode(text, a, b):\n",
        "  enc_list = [] \n",
        "  for i in range (len(text)): \n",
        "    m_num = alpha.index(text[i]) \n",
        "    k_num = (m_num * a) \n",
        "    e_num  = (k_num + b) % 26 \n",
        "    enc_list.append(alpha[e_num]) \n",
        "  return ''.join(enc_list) "
      ],
      "metadata": {
        "id": "LRo5dtQ4pnqM"
      },
      "execution_count": 4,
      "outputs": []
    },
    {
      "cell_type": "markdown",
      "source": [
        "This is the Affine decode, which is similar to the Affine encode but you multiply by the inverse. "
      ],
      "metadata": {
        "id": "QWs1sAZn9CTy"
      }
    },
    {
      "cell_type": "code",
      "source": [
        "def affine_decode(text, a, b):\n",
        "  dec_list = []\n",
        "  for i in range (len(text)):\n",
        "    m_num = alpha.index(text[i]) \n",
        "    k_num = (m_num - b) \n",
        "    e_num = (k_num * mod_inverse(a, 26)) %26 \n",
        "    dec_list.append(alpha[e_num]) \n",
        "  return ''.join(dec_list)"
      ],
      "metadata": {
        "id": "_tIIfQtbpvYA"
      },
      "execution_count": 5,
      "outputs": []
    },
    {
      "cell_type": "markdown",
      "source": [
        "In this section I call the encode and decode functions."
      ],
      "metadata": {
        "id": "n6h6ezEG9S0O"
      }
    },
    {
      "cell_type": "code",
      "source": [
        "text = \"HELLOWORLD\"\n",
        "a = 3\n",
        "b = 5\n",
        "enc = affine_encode(text, a, b)\n",
        "dec = affine_decode(enc, a, b)\n",
        "print(enc)\n",
        "print(dec)\n",
        "print()"
      ],
      "metadata": {
        "colab": {
          "base_uri": "https://localhost:8080/"
        },
        "id": "WfgSsV1Uqj38",
        "outputId": "bb8a0950-021d-465f-e915-7a71e21be107"
      },
      "execution_count": 6,
      "outputs": [
        {
          "output_type": "stream",
          "name": "stdout",
          "text": [
            "ARMMVTVEMO\n",
            "HELLOWORLD\n",
            "\n"
          ]
        }
      ]
    },
    {
      "cell_type": "markdown",
      "source": [
        "***Part two***"
      ],
      "metadata": {
        "id": "h3eIyE7QqOhf"
      }
    },
    {
      "cell_type": "markdown",
      "source": [
        "This section includes the text to number function, which turns a pair of letters into a single number by seperating the letters in a string and converts the seperate letters into numbers. Then we store the conversions as one number. "
      ],
      "metadata": {
        "id": "f91iRdaU-D5j"
      }
    },
    {
      "cell_type": "code",
      "source": [
        "def convert_to_num(word):\n",
        "  e = 0\n",
        "  for i in range(len(word)):\n",
        "    for i in range(len(word)): \n",
        "      return e "
      ],
      "metadata": {
        "id": "uYUIt1s8qP1S"
      },
      "execution_count": 7,
      "outputs": []
    },
    {
      "cell_type": "markdown",
      "source": [
        "This section includes the number to text function, which converts the number we got in the previous block and converts it back to text. For each letter take the current value and split it between the quotient and remainder. The remainder is a number and the quotient goes through the same process."
      ],
      "metadata": {
        "id": "u08NcxFCAGCb"
      }
    },
    {
      "cell_type": "code",
      "source": [
        "def convert_to_text(num, n):\n",
        "    text_list = []\n",
        "    for i in range(n):\n",
        "      r = num%26\n",
        "      d = num//26\n",
        "      num = d\n",
        "      text_list.append(alpha[r])\n",
        "    return\"\".join(text_list)"
      ],
      "metadata": {
        "id": "3gt-VdhwqxPJ"
      },
      "execution_count": 8,
      "outputs": []
    },
    {
      "cell_type": "markdown",
      "source": [
        "In this section I call the Convert to number and convert to text functions. "
      ],
      "metadata": {
        "id": "8bLVE464BrVq"
      }
    },
    {
      "cell_type": "code",
      "source": [
        "test = \"THEQUICKBROWNFOXJUMPEDOVERTHELAZYDOG\"\n",
        "l = len(test)\n",
        "num = convert_to_num(test)\n",
        "answer = convert_to_text(num, l)\n",
        "print(num)\n",
        "print(answer)"
      ],
      "metadata": {
        "colab": {
          "base_uri": "https://localhost:8080/"
        },
        "id": "F3SiKDikq9Yr",
        "outputId": "15701765-62c4-4658-eae4-cf5ee3535245"
      },
      "execution_count": 9,
      "outputs": [
        {
          "output_type": "stream",
          "name": "stdout",
          "text": [
            "0\n",
            "AAAAAAAAAAAAAAAAAAAAAAAAAAAAAAAAAAAA\n"
          ]
        }
      ]
    },
    {
      "cell_type": "markdown",
      "source": [
        "## ***Part three***"
      ],
      "metadata": {
        "id": "jL8ELY4rrARb"
      }
    },
    {
      "cell_type": "markdown",
      "source": [
        "The Affine cipher in part one took one letter, converted it into a number, and so on and so forth. In this section I used the regular Affine cipher but added the convert to num and convert to text funtion so that we could take a bunch of letters into a single number. "
      ],
      "metadata": {
        "id": "xb5reF9yC5cM"
      }
    },
    {
      "cell_type": "code",
      "source": [
        "def affine_n_encode(text, n, a, b):\n",
        "  r=len(text)%n\n",
        "  more = n - r\n",
        "  final_text = text+\"X\"*more\n",
        "  enc_list = []\n",
        "  for location in range(0,len(text),n):\n",
        "    ngram = final_text[location:location+n]\n",
        "    num = convert_to_num(ngram)\n",
        "    af_num = (num * a + b)%(26**n)\n",
        "    af_letter = convert_to_text(af_num, n)\n",
        "    enc_list.append(af_letter)\n",
        "  return ''.join(enc_list)"
      ],
      "metadata": {
        "id": "xh9K4s44rBcX"
      },
      "execution_count": 10,
      "outputs": []
    },
    {
      "cell_type": "markdown",
      "source": [
        "To find the Mod inverse for the decode we use 26**n instead of 26."
      ],
      "metadata": {
        "id": "gE_IyJ3pD6nR"
      }
    },
    {
      "cell_type": "code",
      "source": [
        "def affine_n_decode(text, n, a, b):\n",
        "  dec_list = []\n",
        "  a_inv = mod_inverse(a,26**n)\n",
        "  print(\"inverse of\", a, \"is:\" ,a_inv)\n",
        "  for i in range(0,len(text),n):\n",
        "    ngram = text[i:i+n]\n",
        "    num = convert_to_num(ngram)\n",
        "    af_num = ((num - b)*a_inv) % (26**n)\n",
        "    af_letter = convert_to_text(af_num,n)\n",
        "    dec_list.append(af_letter)\n",
        "  return ''.join(dec_list)"
      ],
      "metadata": {
        "id": "jD5X4OP0rFx6"
      },
      "execution_count": 11,
      "outputs": []
    },
    {
      "cell_type": "markdown",
      "source": [
        "In this section, I print the encode and decode. "
      ],
      "metadata": {
        "id": "wW9nW6X9EJqn"
      }
    },
    {
      "cell_type": "code",
      "source": [
        "test = \"THEQUICKBROWNFOXJUMPEDOVERTHELAZYDOG\"\n",
        "n = 5\n",
        "a = 347\n",
        "b = 1721\n",
        "enc = affine_n_encode(test, n, a, b)\n",
        "dec = affine_n_decode(enc, n, a, b)\n",
        "print(enc, dec)"
      ],
      "metadata": {
        "colab": {
          "base_uri": "https://localhost:8080/"
        },
        "id": "ZayvNyKZrIxb",
        "outputId": "0124bafd-32ba-4eef-d9ff-eba88fb5a355"
      },
      "execution_count": 12,
      "outputs": [
        {
          "output_type": "stream",
          "name": "stdout",
          "text": [
            "inverse of 347 is: 10272083\n",
            "FOCAAFOCAAFOCAAFOCAAFOCAAFOCAAFOCAAFOCAA LLDSCLLDSCLLDSCLLDSCLLDSCLLDSCLLDSCLLDSC\n"
          ]
        }
      ]
    }
  ]
}