{
  "nbformat": 4,
  "nbformat_minor": 0,
  "metadata": {
    "colab": {
      "name": "CaesarShift1.ipynb",
      "provenance": []
    },
    "kernelspec": {
      "name": "python3",
      "display_name": "Python 3"
    },
    "language_info": {
      "name": "python"
    }
  },
  "cells": [
    {
      "cell_type": "markdown",
      "source": [
        "# **Caesar Shift**\n",
        "\n",
        "In this python program, I used for loops to encode and decode any text using the Caesar Shift. "
      ],
      "metadata": {
        "id": "XSeQBFAwru50"
      }
    },
    {
      "cell_type": "markdown",
      "source": [
        "This is the lowercase alphabet in a list or index."
      ],
      "metadata": {
        "id": "fHFw6mrMsUSZ"
      }
    },
    {
      "cell_type": "code",
      "source": [
        "alpha = \"ABCDEFGHIJKLMNOPQRSTUVWXYZ\""
      ],
      "metadata": {
        "id": "9Ud8xF0ZsfH4"
      },
      "execution_count": null,
      "outputs": []
    },
    {
      "cell_type": "markdown",
      "source": [
        "This section is the Caesar shift encode definition.\n",
        "I set an empty list. Then shift to the right a certain amount of spaces in the alphabet. In this case my shift is one. "
      ],
      "metadata": {
        "id": "UgYuKaeysiaJ"
      }
    },
    {
      "cell_type": "code",
      "source": [
        "def caesar_encode(text, n):\n",
        "  answer_list = []\n",
        "  for letter in text: \n",
        "    ind = alpha.index(letter) \n",
        "    ind = ind + n \n",
        "    ind %=26\n",
        "    answer_list.append(alpha[ind])\n",
        "  return \"\".join(answer_list) "
      ],
      "metadata": {
        "id": "eSQMJnxvvp7W"
      },
      "execution_count": null,
      "outputs": []
    },
    {
      "cell_type": "markdown",
      "source": [
        "This is the Caesar Shift Decoding definition. It is very similar to the encode but instead of adding n we subtract it."
      ],
      "metadata": {
        "id": "tAApS-Yuvy5X"
      }
    },
    {
      "cell_type": "code",
      "source": [
        "def caesar_decode(text, n):\n",
        "  ans_list = []\n",
        "  for letter in text:\n",
        "    ind = alpha.index(letter)\n",
        "    ind = ind - n\n",
        "    ind %=26\n",
        "    ans_list.append(alpha[ind])\n",
        "  return \"\".join(ans_list)"
      ],
      "metadata": {
        "id": "h2bEEprlv3bV"
      },
      "execution_count": null,
      "outputs": []
    },
    {
      "cell_type": "markdown",
      "source": [
        "This section includes the shift for the encode and the users input function. In this section, I printed the encode and decode results. "
      ],
      "metadata": {
        "id": "haOUft9twGlz"
      }
    },
    {
      "cell_type": "code",
      "source": [
        "userinput = input(\"Enter text\")\n",
        "userinput = userinput.upper()\n",
        "shift = 1\n",
        "test = \"HELLOWORLD\"\n",
        "enc = caesar_encode(userinput, shift)\n",
        "dec = caesar_decode(enc, shift)\n",
        "print(enc)\n",
        "print(dec)"
      ],
      "metadata": {
        "colab": {
          "base_uri": "https://localhost:8080/"
        },
        "id": "PCcWEW5ayVzE",
        "outputId": "5021bf48-0f5e-4cc6-d7f0-4ebd88b616b7"
      },
      "execution_count": null,
      "outputs": [
        {
          "output_type": "stream",
          "name": "stdout",
          "text": [
            "Enter textDesire\n",
            "EFTJSF\n",
            "DESIRE\n"
          ]
        }
      ]
    }
  ]
}