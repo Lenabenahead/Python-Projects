{
  "nbformat": 4,
  "nbformat_minor": 0,
  "metadata": {
    "colab": {
      "name": "ZombieWeakness.ipynb",
      "provenance": []
    },
    "kernelspec": {
      "name": "python3",
      "display_name": "Python 3"
    },
    "language_info": {
      "name": "python"
    }
  },
  "cells": [
    {
      "cell_type": "markdown",
      "source": [
        "# **Zombie Weakness**\n",
        "\n",
        "This python program uses different skills like lists, if-else conditions, loops, user input functions and more."
      ],
      "metadata": {
        "id": "N2nSstSxl__z"
      }
    },
    {
      "cell_type": "code",
      "source": [
        "def ZombieWeaknes():\n",
        "  weapons = [\"Machinegun\", \"bomb\", \"Karambit\" ] \n",
        "  zombieWeakness = \"Karambit\"\n",
        "  print(\"You have encountered a zombie! Prepare for battle.\")\n",
        "  print(weapons)\n",
        "  print(\"Choose your weapon! Enter a number, 1 or 2.\")\n",
        "  print(\"1. Use an Item from index\")\n",
        "  print(\"2. Choose an Item of your own\")\n",
        "  choice=int(input())\n",
        "\n",
        "  if choice == 1:\n",
        "    print(weapons)\n",
        "    print(\"Enter the index of the weapon\")\n",
        "    index = int(input()) \n",
        "    print(\"You chose to fight with a\")\n",
        "    print(weapons[index])\n",
        "  elif choice == 2:\n",
        "    print(\"What weapon would you like to use?\")\n",
        "    weapon= input()\n",
        "    weapons.append(weapon)\n",
        "    print(weapons)\n",
        "\n",
        "  print(\"Please rewrite the name of your weapon to confirm it.\")\n",
        "  w= input()\n",
        "\n",
        "  if w == \"karambit\":\n",
        "    print(\"Congratulations, you have won the fight!!!\")\n",
        "  elif w != \"karambit\":\n",
        "    print(\"I'm sorry, you have lost the fight, try again.\")\n",
        "    w= input()\n",
        "\n",
        "\n",
        "ZombieWeaknes()"
      ],
      "metadata": {
        "colab": {
          "base_uri": "https://localhost:8080/"
        },
        "id": "zNMYfukSm9_j",
        "outputId": "ad28a34f-4f27-4359-a5f2-44b6a2171fd0"
      },
      "execution_count": 5,
      "outputs": [
        {
          "output_type": "stream",
          "name": "stdout",
          "text": [
            "You have encountered a zombie! Prepare for battle.\n",
            "['Machinegun', 'bomb', 'Karambit']\n",
            "Choose your weapon! Enter a number, 1 or 2.\n",
            "1. Use an Item from index\n",
            "2. Choose an Item of your own\n",
            "1\n",
            "['Machinegun', 'bomb', 'Karambit']\n",
            "Enter the index of the weapon\n",
            "2\n",
            "You chose to fight with a\n",
            "Karambit\n",
            "Please rewrite the name of your weapon to confirm it.\n",
            "karambit\n",
            "Congratulations, you have won the fight!!!\n"
          ]
        }
      ]
    }
  ]
}