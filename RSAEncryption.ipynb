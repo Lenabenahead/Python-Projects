{
  "nbformat": 4,
  "nbformat_minor": 0,
  "metadata": {
    "colab": {
      "name": "RSAEncryption.ipynb",
      "provenance": []
    },
    "kernelspec": {
      "name": "python3",
      "display_name": "Python 3"
    },
    "language_info": {
      "name": "python"
    }
  },
  "cells": [
    {
      "cell_type": "markdown",
      "source": [
        "# **RSA Encryption**\n"
      ],
      "metadata": {
        "id": "iWzgc_DVGzcM"
      }
    },
    {
      "cell_type": "code",
      "execution_count": 1,
      "metadata": {
        "id": "-nTzolyCF-3G"
      },
      "outputs": [],
      "source": [
        "import math"
      ]
    },
    {
      "cell_type": "markdown",
      "source": [
        "This is the uppercase alphabet as a list."
      ],
      "metadata": {
        "id": "S85PHphvG5TT"
      }
    },
    {
      "cell_type": "code",
      "source": [
        "alpha = \"ABCDEFGHIJKLMNOPQRSTUVWXYZ\""
      ],
      "metadata": {
        "id": "BZjAWVLCGQWe"
      },
      "execution_count": 2,
      "outputs": []
    },
    {
      "cell_type": "markdown",
      "source": [
        "This section includes the convert to number function from the Affine Cipher. It takes a string and converts it into a number. "
      ],
      "metadata": {
        "id": "V9nms96ZG99H"
      }
    },
    {
      "cell_type": "code",
      "source": [
        "def convert_to_num(word):\n",
        "  f_num = 0\n",
        "  for i in range(len(word)):\n",
        "    k = alpha.index(word[i])\n",
        "    exp = 26**i\n",
        "    f_num += k*exp\n",
        "  return f_num\n"
      ],
      "metadata": {
        "id": "zTYKENALGTVo"
      },
      "execution_count": 3,
      "outputs": []
    },
    {
      "cell_type": "markdown",
      "source": [
        "This is also from the Affine cipher. This function converts the long number into text. "
      ],
      "metadata": {
        "id": "on8rjMHEJFCn"
      }
    },
    {
      "cell_type": "code",
      "source": [
        "def convert_to_text(num, n):\n",
        "  text_list = []\n",
        "  for i in range(n):\n",
        "    r = num%26\n",
        "    num = num//26\n",
        "    text_list.append(alpha[r])\n",
        "  return\"\".join(text_list)\n",
        "  "
      ],
      "metadata": {
        "id": "3MZr28csGVzI"
      },
      "execution_count": 4,
      "outputs": []
    },
    {
      "cell_type": "markdown",
      "source": [
        "This function finds the inverse so we can use it to decode. "
      ],
      "metadata": {
        "id": "bWCngPOVLJN1"
      }
    },
    {
      "cell_type": "code",
      "source": [
        "def mod_inverse_helper(a, b):\n",
        "    q, r = a//b, a%b\n",
        "    if r == 1:\n",
        "        return (1, -1 * q)\n",
        "    u, v = mod_inverse_helper(b, r)\n",
        "    return (v, -1 * q * v + u)\n",
        "\n",
        "def mod_inverse(a, m):\n",
        "    assert math.gcd(a, m) == 1, \"You're trying to invert \" + str(a) + \" in mod \" + str(m) + \" and that doesn't work!\"\n",
        "    return mod_inverse_helper(m, a)[1] % m"
      ],
      "metadata": {
        "id": "zf4IwVjMGYOF"
      },
      "execution_count": 5,
      "outputs": []
    },
    {
      "cell_type": "markdown",
      "source": [
        "This encode turns the entire text into a single number then raise it to the power of e in mod m. "
      ],
      "metadata": {
        "id": "oRROMSqLLalP"
      }
    },
    {
      "cell_type": "code",
      "source": [
        "def rsa_encode (text, m, e):\n",
        "  num = convert_to_num(text)\n",
        "  rsa_num = pow (num, e, m)\n",
        "  return rsa_num"
      ],
      "metadata": {
        "id": "wvlj3Q86GbrU"
      },
      "execution_count": 6,
      "outputs": []
    },
    {
      "cell_type": "markdown",
      "source": [
        "In this section I decode num by raising it to the d power mod m, then convert the num to text."
      ],
      "metadata": {
        "id": "CTr2O7U7MJ6b"
      }
    },
    {
      "cell_type": "code",
      "source": [
        "def rsa_decode(num, m, d, l):\n",
        "  #t = (p-1) * (q-1)\n",
        "  rsa_num = pow(num,d,m)\n",
        "  word = convert_to_text(rsa_num, l)\n",
        "  return (word)"
      ],
      "metadata": {
        "id": "0nb-Rj6vGf38"
      },
      "execution_count": 7,
      "outputs": []
    },
    {
      "cell_type": "markdown",
      "source": [
        "In this block, I use p and q to find the totient of m, then to find the multiplictive inverse of e. "
      ],
      "metadata": {
        "id": "IAst7bnGMov9"
      }
    },
    {
      "cell_type": "code",
      "source": [
        "def get_d(p, q, e):\n",
        "  t = (p-1) * (q-1)\n",
        "  inverse = mod_inverse(e,t)\n",
        "  return inverse"
      ],
      "metadata": {
        "id": "TJvDWFoLGgxU"
      },
      "execution_count": 8,
      "outputs": []
    },
    {
      "cell_type": "markdown",
      "source": [
        "In this section I multiplied p and q (my prime numbers) to get m, my encoding or decoding Mod. I also print the encode and decode. "
      ],
      "metadata": {
        "id": "UAjvoGC2HP_e"
      }
    },
    {
      "cell_type": "code",
      "source": [
        "text = \"THEFIVEBOXINGWIZARDSJUMPQUICKLY\"\n",
        "l = len(text)\n",
        "p = 292361466231755597564095925310764764819\n",
        "q = 307125506157764866722739041634199200019\n",
        "e = 65537\n",
        "m = p * q\n",
        "print (m)\n",
        "d = get_d(p, q, e)\n",
        "enc = rsa_encode(text, m, e)\n",
        "dec = rsa_decode(enc, m, d, l)\n",
        "print(enc)\n",
        "print(dec)"
      ],
      "metadata": {
        "colab": {
          "base_uri": "https://localhost:8080/"
        },
        "id": "-QS4gy0lGldq",
        "outputId": "f0a2e06f-666d-40d1-b948-8faf9aaea729"
      },
      "execution_count": 9,
      "outputs": [
        {
          "output_type": "stream",
          "name": "stdout",
          "text": [
            "89791663297454218925122821203164688040223092413375743264939186396302475331561\n",
            "34028226424022141662679340496616735128390579906964150145035108807466384852365\n",
            "THEFIVEBOXINGWIZARDSJUMPQUICKLY\n"
          ]
        }
      ]
    }
  ]
}